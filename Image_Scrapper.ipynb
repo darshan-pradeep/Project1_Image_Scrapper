{
 "cells": [
  {
   "cell_type": "markdown",
   "id": "8c621aaf",
   "metadata": {},
   "source": [
    "# 1. Opening chrome browser automatically"
   ]
  },
  {
   "cell_type": "code",
   "execution_count": 57,
   "id": "26a18034",
   "metadata": {},
   "outputs": [
    {
     "name": "stderr",
     "output_type": "stream",
     "text": [
      "C:\\Users\\Darshan Pradeep\\AppData\\Local\\Temp\\ipykernel_884\\1431537154.py:3: DeprecationWarning: executable_path has been deprecated, please pass in a Service object\n",
      "  wd=webdriver.Chrome(driver_path)\n"
     ]
    }
   ],
   "source": [
    "from selenium import webdriver\n",
    "driver_path=r'C:\\Users\\Darshan Pradeep\\Desktop\\Practice\\chromedriver.exe'\n",
    "wd=webdriver.Chrome(driver_path)"
   ]
  },
  {
   "cell_type": "markdown",
   "id": "b742b698",
   "metadata": {},
   "source": [
    "# 2. Creating the search link"
   ]
  },
  {
   "cell_type": "code",
   "execution_count": 58,
   "id": "6491dca4",
   "metadata": {},
   "outputs": [
    {
     "data": {
      "text/plain": [
       "'https://www.google.com/search?q=abdul+kalam&rlz=1C1CHBF_enIN1023IN1023&sxsrf=ALiCzsbmglTijOEFhVZL7i-nj1CAwc-erQ:1665047486859&source=lnms&tbm=isch&sa=X&ved=2ahUKEwjo2fOfocv6AhUi2DgGHVbHBTkQ_AUoAXoECAMQAw&biw=1536&bih=722&dpr=1.25'"
      ]
     },
     "execution_count": 58,
     "metadata": {},
     "output_type": "execute_result"
    }
   ],
   "source": [
    "search_term=\"abdul kalam\"\n",
    "link=\"https://www.google.com/search?q={q}&rlz=1C1CHBF_enIN1023IN1023&sxsrf=ALiCzsbmglTijOEFhVZL7i-nj1CAwc-erQ:1665047486859&source=lnms&tbm=isch&sa=X&ved=2ahUKEwjo2fOfocv6AhUi2DgGHVbHBTkQ_AUoAXoECAMQAw&biw=1536&bih=722&dpr=1.25\"\n",
    "search_link=link.format(q=search_term.replace(' ','+'))\n",
    "search_link"
   ]
  },
  {
   "cell_type": "markdown",
   "id": "01ebb972",
   "metadata": {},
   "source": [
    "# 3. Opening the link in browser automatically"
   ]
  },
  {
   "cell_type": "code",
   "execution_count": 59,
   "id": "03a1203f",
   "metadata": {},
   "outputs": [],
   "source": [
    "wd.get(search_link)"
   ]
  },
  {
   "cell_type": "markdown",
   "id": "cf00c457",
   "metadata": {},
   "source": [
    "# 4. Why not to use requests.get() for page information in certain cases"
   ]
  },
  {
   "cell_type": "code",
   "execution_count": 55,
   "id": "fdf24b7a",
   "metadata": {},
   "outputs": [
    {
     "name": "stderr",
     "output_type": "stream",
     "text": [
      "C:\\Users\\Darshan Pradeep\\AppData\\Local\\Temp\\ipykernel_884\\188707262.py:3: DeprecationWarning: executable_path has been deprecated, please pass in a Service object\n",
      "  wd=webdriver.Chrome(driver_path)\n"
     ]
    },
    {
     "data": {
      "text/plain": [
       "<!DOCTYPE html PUBLIC \"-//WAPFORUM//DTD XHTML Mobile 1.0//EN\" \"http://www.wapforum.org/DTD/xhtml-mobile10.dtd\">\n",
       "<html lang=\"en-IN\" xmlns=\"http://www.w3.org/1999/xhtml\"><head><meta content=\"application/xhtml+xml; charset=utf-8\" http-equiv=\"Content-Type\"/><meta content=\"no-cache\" name=\"Cache-Control\"/><title>abdul kalam - Google Search</title><style>a{text-decoration:none;color:inherit}a:hover{text-decoration:underline}a img{border:0}body{font-family:arial,sans-serif;padding:8px;margin:0 auto;max-width:700px;min-width:240px;}.FbhRzb{border-left:thin solid #dadce0;border-right:thin solid #dadce0;border-top:thin solid #dadce0;height:40px;overflow:hidden}.n692Zd{margin-bottom:10px}.cvifge{height:40px;border-spacing:0}.QvGUP{height:40px;padding:0 8px 0 8px;vertical-align:top}.O4cRJf{height:40px;width:100%;padding:0;padding-right:16px}.O1ePr{height:40px;padding:0;vertical-align:top}.kgJEQe{height:36px;width:98px;vertical-align:top;margin-top:4px}.lXLRf{vertical-align:top}.MhzMZd{border:0;vertical-align:middle;font-size:14px;height:40px;padding:0;width:100%;padding-left:16px}.xB0fq{height:40px;border:none;font-size:14px;background-color:#4285f4;color:#fff;padding:0 16px;margin:0;vertical-align:top;cursor:pointer}.xB0fq:focus{border:1px solid #000}.M7pB2{border:thin solid #dadce0;margin:0 0 3px 0;font-size:13px;font-weight:500;height:40px}.euZec{width:100%;height:40px;text-align:center;border-spacing:0}table.euZec td{padding:0;width:25%}.QIqI7{display:inline-block;padding-top:4px;font-weight:bold;color:#4285f4}.EY24We{border-bottom:2px solid #4285f4}.CsQyDc{display:inline-block;color:#70757a}.TuS8Ad{font-size:14px}.HddGcc{padding:8px;color:#70757a}.dzp8ae{font-weight:bold;color:#3c4043}.rEM8G{color:#70757a}.bookcf{table-layout:fixed;width:100%;border-spacing:0}.InWNIe{text-align:center}.uZgmoc{border:thin solid #dadce0;color:#70757a;font-size:14px;text-align:center;table-layout:fixed;width:100%}.frGj1b{display:block;padding:12px 0 12px 0;width:100%}.BnJWBc{text-align:center;padding:6px 0 13px 0;height:35px}.e3goi{vertical-align:top;padding:0;height:180px}.GpQGbf{margin:auto;border-collapse:collapse;border-spacing:0;width:100%}</style></head><body><style>.X6ZCif{color:#202124;font-size:11px;line-height:16px;display:inline-block;padding-top:2px;overflow:hidden;padding-bottom:4px;width:100%}.TwVfHd{border-radius:16px;border:thin solid #dadce0;display:inline-block;padding:8px 8px;margin-right:8px;margin-bottom:4px}.yekiAe{background-color:#dadce0}.mnTahd{width:100%}.ezO2md{border:thin solid #dadce0;padding:12px 16px 12px 16px;margin-bottom:10px;font-family:arial,sans-serif}.lIMUZd{font-family:arial,sans-serif}.IkMU6e{border-spacing:0}.SjCsie{width:100%}.EnarA{text-align:center}.NZWO1b{width:162px;height:140px;line-height:140px;overflow:'hidden';text-align:center}.yWs4tf{text-align:center;margin:auto;vertical-align:middle;max-width:162px;max-height:140px}.jB2rPd{padding-top:2px;padding-bottom:8px;}.fYyStc{word-break:break-word}.ynsChf{display:block;white-space:nowrap;overflow:hidden;text-overflow:ellipsis}.Fj3V3b{color:#1967d2;font-size:14px;line-height:20px}.FrIlee{color:#202124;font-size:11px;line-height:16px}.F9iS2e{color:#70757a;font-size:11px;line-height:16px}.WMQ2Le{color:#70757a;font-size:12px;line-height:16px}.x3G5ab{color:#202124;font-size:12px;line-height:16px}.fuLhoc{color:#1967d2;font-size:16px;line-height:20px}.epoveb{font-size:24px;line-height:28px;font-weight:400;color:#202124}.dXDvrc{color:#0d652d;font-size:14px;line-height:20px;word-wrap:break-word}.dloBPe{font-weight:bold}.YVIcad{color:#70757a}.JkVVdd{color:#ea4335}.oXZRFd{color:#ea4335}.MQHtg{color:#fbbc04}.pyMRrb{color:#1e8e3e}.EtTZid{color:#1e8e3e}.M3vVJe{color:#1967d2}.qXLe6d{display:block}.NHQNef{font-style:italic}.Cb8Z7c{white-space:pre}a.ZWRArf{text-decoration:none}a .CVA68e:hover{text-decoration:underline}</style><div class=\"n692Zd\"><div class=\"BnJWBc\"><a class=\"lXLRf\" href=\"/?sa=X&amp;rlz=1C1CHBF_enIN1023IN1023&amp;biw=1536&amp;bih=722&amp;output=images&amp;ie=UTF-8&amp;tbm=isch&amp;ved=0ahUKEwj58vvftsv6AhUUzXMBHWuGDtkQPAgC\"><img alt=\"Google\" class=\"kgJEQe\" src=\"/images/branding/searchlogo/1x/googlelogo_desk_heirloom_color_150x55dp.gif\"/></a></div><div class=\"FbhRzb\"><form action=\"/search\"><input name=\"rlz\" type=\"hidden\" value=\"1C1CHBF_enIN1023IN1023\"/><input name=\"biw\" type=\"hidden\" value=\"1536\"/><input name=\"bih\" type=\"hidden\" value=\"722\"/><input name=\"ie\" type=\"hidden\" value=\"ISO-8859-1\"/><input name=\"tbm\" type=\"hidden\" value=\"isch\"/><input name=\"oq\" type=\"hidden\"/><input name=\"aqs\" type=\"hidden\"/><table class=\"cvifge\"><tr><td class=\"O4cRJf\"><input class=\"MhzMZd\" name=\"q\" type=\"text\" value=\"abdul kalam\"/></td><td class=\"O1ePr\"><input class=\"xB0fq\" type=\"submit\" value=\"Search\"/></td></tr></table></form></div><div class=\"M7pB2\"><table class=\"euZec\"><tbody><tr><td><a class=\"CsQyDc\" href=\"/search?q=abdul+kalam&amp;rlz=1C1CHBF_enIN1023IN1023&amp;biw=1536&amp;bih=722&amp;ie=UTF-8&amp;source=lnms&amp;sa=X&amp;ved=0ahUKEwj58vvftsv6AhUUzXMBHWuGDtkQ_AUIBCgA\">ALL</a></td><td class=\"EY24We\"><span class=\"QIqI7\">IMAGES</span></td><td><a class=\"CsQyDc\" href=\"/search?q=abdul+kalam&amp;rlz=1C1CHBF_enIN1023IN1023&amp;biw=1536&amp;bih=722&amp;ie=UTF-8&amp;tbm=nws&amp;source=lnms&amp;sa=X&amp;ved=0ahUKEwj58vvftsv6AhUUzXMBHWuGDtkQ_AUIBigC\">NEWS</a></td><td><a class=\"CsQyDc\" href=\"/search?q=abdul+kalam&amp;rlz=1C1CHBF_enIN1023IN1023&amp;biw=1536&amp;bih=722&amp;ie=UTF-8&amp;tbm=bks&amp;source=lnms&amp;sa=X&amp;ved=0ahUKEwj58vvftsv6AhUUzXMBHWuGDtkQ_AUIBygD\">BOOKS</a></td></tr></tbody></table></div></div><div class=\"X6ZCif\"><a class=\"TwVfHd\" href=\"/search?rlz=1C1CHBF_enIN1023IN1023&amp;biw=1536&amp;bih=722&amp;ie=UTF-8&amp;tbm=isch&amp;q=abdul+kalam&amp;chips=q:abdul+kalam,g_1:drawing&amp;sa=X&amp;ved=0ahUKEwj58vvftsv6AhUUzXMBHWuGDtkQ4lYICygA\">drawing</a><a class=\"TwVfHd\" href=\"/search?rlz=1C1CHBF_enIN1023IN1023&amp;biw=1536&amp;bih=722&amp;ie=UTF-8&amp;tbm=isch&amp;q=abdul+kalam&amp;chips=q:abdul+kalam,g_1:wallpaper&amp;sa=X&amp;ved=0ahUKEwj58vvftsv6AhUUzXMBHWuGDtkQ4lYIDCgB\">wallpaper</a><a class=\"TwVfHd\" href=\"/search?rlz=1C1CHBF_enIN1023IN1023&amp;biw=1536&amp;bih=722&amp;ie=UTF-8&amp;tbm=isch&amp;q=abdul+kalam&amp;chips=q:abdul+kalam,g_1:painting&amp;sa=X&amp;ved=0ahUKEwj58vvftsv6AhUUzXMBHWuGDtkQ4lYIDSgC\">painting</a><a class=\"TwVfHd\" href=\"/search?rlz=1C1CHBF_enIN1023IN1023&amp;biw=1536&amp;bih=722&amp;ie=UTF-8&amp;tbm=isch&amp;q=abdul+kalam&amp;chips=q:abdul+kalam,g_1:sketch&amp;sa=X&amp;ved=0ahUKEwj58vvftsv6AhUUzXMBHWuGDtkQ4lYIDigD\">sketch</a><a class=\"TwVfHd\" href=\"/search?rlz=1C1CHBF_enIN1023IN1023&amp;biw=1536&amp;bih=722&amp;ie=UTF-8&amp;tbm=isch&amp;q=abdul+kalam&amp;chips=q:abdul+kalam,g_1:life&amp;sa=X&amp;ved=0ahUKEwj58vvftsv6AhUUzXMBHWuGDtkQ4lYIDygE\">life</a><a class=\"TwVfHd\" href=\"/search?rlz=1C1CHBF_enIN1023IN1023&amp;biw=1536&amp;bih=722&amp;ie=UTF-8&amp;tbm=isch&amp;q=abdul+kalam&amp;chips=q:abdul+kalam,g_1:education&amp;sa=X&amp;ved=0ahUKEwj58vvftsv6AhUUzXMBHWuGDtkQ4lYIECgF\">education</a><a class=\"TwVfHd\" href=\"/search?rlz=1C1CHBF_enIN1023IN1023&amp;biw=1536&amp;bih=722&amp;ie=UTF-8&amp;tbm=isch&amp;q=abdul+kalam&amp;chips=q:abdul+kalam,g_1:apj&amp;sa=X&amp;ved=0ahUKEwj58vvftsv6AhUUzXMBHWuGDtkQ4lYIESgG\">apj</a><a class=\"TwVfHd\" href=\"/search?rlz=1C1CHBF_enIN1023IN1023&amp;biw=1536&amp;bih=722&amp;ie=UTF-8&amp;tbm=isch&amp;q=abdul+kalam&amp;chips=q:abdul+kalam,g_1:portrait&amp;sa=X&amp;ved=0ahUKEwj58vvftsv6AhUUzXMBHWuGDtkQ4lYIEigH\">portrait</a><a class=\"TwVfHd\" href=\"/search?rlz=1C1CHBF_enIN1023IN1023&amp;biw=1536&amp;bih=722&amp;ie=UTF-8&amp;tbm=isch&amp;q=abdul+kalam&amp;chips=q:abdul+kalam,g_1:biography&amp;sa=X&amp;ved=0ahUKEwj58vvftsv6AhUUzXMBHWuGDtkQ4lYIEygI\">biography</a><a class=\"TwVfHd\" href=\"/search?rlz=1C1CHBF_enIN1023IN1023&amp;biw=1536&amp;bih=722&amp;ie=UTF-8&amp;tbm=isch&amp;q=abdul+kalam&amp;chips=q:abdul+kalam,g_1:kavithai&amp;sa=X&amp;ved=0ahUKEwj58vvftsv6AhUUzXMBHWuGDtkQ4lYIFCgJ\">kavithai</a></div><div><table class=\"GpQGbf\"><tr><td align=\"center\" class=\"e3goi\"><div class=\"mnTahd\"> <div> <div class=\"lIMUZd\"><div><table class=\"IkMU6e\"><tr><td><a href=\"/url?q=https://en.wikipedia.org/wiki/A._P._J._Abdul_Kalam&amp;sa=U&amp;ved=2ahUKEwj58vvftsv6AhUUzXMBHWuGDtkQqoUBegQIAxAB&amp;usg=AOvVaw1Y_d4-zNwVI9akUqJhxZsf\"><div class=\"NZWO1b\"><img alt=\"\" class=\"yWs4tf\" src=\"https://encrypted-tbn0.gstatic.com/images?q=tbn:ANd9GcRt0lTRmI4syrQ7HoiFXsUc4YuCzzwBJjQvsQJfBNN_0kp8TdCu46JZ6PWk9A&amp;s\"/></div></a></td></tr><tr><td><a href=\"/url?q=https://en.wikipedia.org/wiki/A._P._J._Abdul_Kalam&amp;sa=U&amp;ved=2ahUKEwj58vvftsv6AhUUzXMBHWuGDtkQr4kDegQIAxAC&amp;usg=AOvVaw19SHVjtZmfxxYJpJSMdxyR\"><div class=\"jB2rPd\"> <span class=\"qXLe6d x3G5ab\"> <span class=\"fYyStc\">A. P. J. Abdul Kalam -...</span> </span> <span class=\"qXLe6d F9iS2e\"> <span class=\"fYyStc\">en.wikipedia.org</span> </span> </div></a></td></tr></table></div></div> </div> </div></td><td align=\"center\" class=\"e3goi\"><div class=\"mnTahd\"> <div> <div class=\"lIMUZd\"><div><table class=\"IkMU6e\"><tr><td><a href=\"/url?q=https://www.britannica.com/biography/A-P-J-Abdul-Kalam&amp;sa=U&amp;ved=2ahUKEwj58vvftsv6AhUUzXMBHWuGDtkQqoUBegQIEhAB&amp;usg=AOvVaw0mnZfBw_yhAO7V5Amy9_qh\"><div class=\"NZWO1b\"><img alt=\"\" class=\"yWs4tf\" src=\"https://encrypted-tbn0.gstatic.com/images?q=tbn:ANd9GcTNluG8RYbAkc9DDoEIJa5R0dW5VG9LjQdk7PDhJN6GzNTJ3zjUmrO_LodkpQ&amp;s\"/></div></a></td></tr><tr><td><a href=\"/url?q=https://www.britannica.com/biography/A-P-J-Abdul-Kalam&amp;sa=U&amp;ved=2ahUKEwj58vvftsv6AhUUzXMBHWuGDtkQr4kDegQIEhAC&amp;usg=AOvVaw0MmjcrPGpzByl9perKq1qL\"><div class=\"jB2rPd\"> <span class=\"qXLe6d x3G5ab\"> <span class=\"fYyStc\">A.P.J. Abdul Kalam |...</span> </span> <span class=\"qXLe6d F9iS2e\"> <span class=\"fYyStc\">www.britannica.com</span> </span> </div></a></td></tr></table></div></div> </div> </div></td><td align=\"center\" class=\"e3goi\"><div class=\"mnTahd\"> <div> <div class=\"lIMUZd\"><div><table class=\"IkMU6e\"><tr><td><a href=\"/url?q=https://www.britannica.com/biography/A-P-J-Abdul-Kalam&amp;sa=U&amp;ved=2ahUKEwj58vvftsv6AhUUzXMBHWuGDtkQqoUBegQIExAB&amp;usg=AOvVaw1rPArdKhi5Jt-MDhDgkoCu\"><div class=\"NZWO1b\"><img alt=\"\" class=\"yWs4tf\" src=\"https://encrypted-tbn0.gstatic.com/images?q=tbn:ANd9GcRmwxHSTRRio5VQ08CSZenf0XHHxbHIxOXAZNCzMg_x8RbRgifCbPsgeIKlVA&amp;s\"/></div></a></td></tr><tr><td><a href=\"/url?q=https://www.britannica.com/biography/A-P-J-Abdul-Kalam&amp;sa=U&amp;ved=2ahUKEwj58vvftsv6AhUUzXMBHWuGDtkQr4kDegQIExAC&amp;usg=AOvVaw37p_ZdU5luE_os8DfOwpxl\"><div class=\"jB2rPd\"> <span class=\"qXLe6d x3G5ab\"> <span class=\"fYyStc\">A.P.J. Abdul Kalam |...</span> </span> <span class=\"qXLe6d F9iS2e\"> <span class=\"fYyStc\">www.britannica.com</span> </span> </div></a></td></tr></table></div></div> </div> </div></td><td align=\"center\" class=\"e3goi\"><div class=\"mnTahd\"> <div> <div class=\"lIMUZd\"><div><table class=\"IkMU6e\"><tr><td><a href=\"/url?q=https://www.flipkart.com/a-p-j-abdul-kalam-smile-wall-posters-home-restaurant-street-paper-print/p/itm91c2ac63655a0&amp;sa=U&amp;ved=2ahUKEwj58vvftsv6AhUUzXMBHWuGDtkQqoUBegQIEBAB&amp;usg=AOvVaw3-SRVyUAZhboiFZMApDKzg\"><div class=\"NZWO1b\"><img alt=\"\" class=\"yWs4tf\" src=\"https://encrypted-tbn0.gstatic.com/images?q=tbn:ANd9GcRS8hJx3gGHmXb1adKZUSFr8GjW9CcmHgJlf3KET35vrJKKaVkrb6XtSfnhnuU&amp;s\"/></div></a></td></tr><tr><td><a href=\"/url?q=https://www.flipkart.com/a-p-j-abdul-kalam-smile-wall-posters-home-restaurant-street-paper-print/p/itm91c2ac63655a0&amp;sa=U&amp;ved=2ahUKEwj58vvftsv6AhUUzXMBHWuGDtkQr4kDegQIEBAC&amp;usg=AOvVaw0Gt3fq4rY2tmVVmMeIt5bX\"><div class=\"jB2rPd\"> <span class=\"qXLe6d x3G5ab\"> <span class=\"fYyStc\">A.P.J Abdul Kalam Smile...</span> </span> <span class=\"qXLe6d F9iS2e\"> <span class=\"fYyStc\">www.flipkart.com</span> </span> </div></a></td></tr></table></div></div> </div> </div></td></tr><tr><td align=\"center\" class=\"e3goi\"><div class=\"mnTahd\"> <div> <div class=\"lIMUZd\"><div><table class=\"IkMU6e\"><tr><td><a href=\"/url?q=http://www.abdulkalam.com/&amp;sa=U&amp;ved=2ahUKEwj58vvftsv6AhUUzXMBHWuGDtkQqoUBegQIDBAB&amp;usg=AOvVaw019Vfm2BpklIW5VsbjJ608\"><div class=\"NZWO1b\"><img alt=\"\" class=\"yWs4tf\" src=\"https://encrypted-tbn0.gstatic.com/images?q=tbn:ANd9GcSLAt_uqjmSWfLFdAPj3uyiOzw7cp-nK_DbjqBaSyy20LGQI7__I4XtWXJS6w&amp;s\"/></div></a></td></tr><tr><td><a href=\"/url?q=http://www.abdulkalam.com/&amp;sa=U&amp;ved=2ahUKEwj58vvftsv6AhUUzXMBHWuGDtkQr4kDegQIDBAC&amp;usg=AOvVaw1loCePIhONfR963ape4_qq\"><div class=\"jB2rPd\"> <span class=\"qXLe6d x3G5ab\"> <span class=\"fYyStc\">Dr.APJ.Abdulkalam Official...</span> </span> <span class=\"qXLe6d F9iS2e\"> <span class=\"fYyStc\">www.abdulkalam.com</span> </span> </div></a></td></tr></table></div></div> </div> </div></td><td align=\"center\" class=\"e3goi\"><div class=\"mnTahd\"> <div> <div class=\"lIMUZd\"><div><table class=\"IkMU6e\"><tr><td><a href=\"/url?q=https://www.bbc.com/news/world-asia-india-33685041&amp;sa=U&amp;ved=2ahUKEwj58vvftsv6AhUUzXMBHWuGDtkQqoUBegQIERAB&amp;usg=AOvVaw17sKNOrzqPk1S2e7EFQ6TX\"><div class=\"NZWO1b\"><img alt=\"\" class=\"yWs4tf\" src=\"https://encrypted-tbn0.gstatic.com/images?q=tbn:ANd9GcSW5UXhOgiPZX2D82sAUTFdjtlVRYtNCpOVwCgFXkvtMfxkb5sBmgzPpAFnA-g&amp;s\"/></div></a></td></tr><tr><td><a href=\"/url?q=https://www.bbc.com/news/world-asia-india-33685041&amp;sa=U&amp;ved=2ahUKEwj58vvftsv6AhUUzXMBHWuGDtkQr4kDegQIERAC&amp;usg=AOvVaw2txg6je93cZddTkQbrz2KW\"><div class=\"jB2rPd\"> <span class=\"qXLe6d x3G5ab\"> <span class=\"fYyStc\">Abdul Kalam: People's...</span> </span> <span class=\"qXLe6d F9iS2e\"> <span class=\"fYyStc\">www.bbc.com</span> </span> </div></a></td></tr></table></div></div> </div> </div></td><td align=\"center\" class=\"e3goi\"><div class=\"mnTahd\"> <div> <div class=\"lIMUZd\"><div><table class=\"IkMU6e\"><tr><td><a href=\"/url?q=https://track2training.com/2021/07/29/a-p-j-abdul-kalam-biography-early-life-education-career-books-awards-more/&amp;sa=U&amp;ved=2ahUKEwj58vvftsv6AhUUzXMBHWuGDtkQqoUBegQICRAB&amp;usg=AOvVaw1xJ00CHNHQhp84CmM6fdvV\"><div class=\"NZWO1b\"><img alt=\"\" class=\"yWs4tf\" src=\"https://encrypted-tbn0.gstatic.com/images?q=tbn:ANd9GcTkj8846qxtbc6Qe0mC2LHcZA-yH4U1ZGGjlt37uIV-_VWcBQPp447cuyForb4&amp;s\"/></div></a></td></tr><tr><td><a href=\"/url?q=https://track2training.com/2021/07/29/a-p-j-abdul-kalam-biography-early-life-education-career-books-awards-more/&amp;sa=U&amp;ved=2ahUKEwj58vvftsv6AhUUzXMBHWuGDtkQr4kDegQICRAC&amp;usg=AOvVaw2cbNnHbfLlVCzyMhR7aGuQ\"><div class=\"jB2rPd\"> <span class=\"qXLe6d x3G5ab\"> <span class=\"fYyStc\">A.P.J. Abdul Kalam...</span> </span> <span class=\"qXLe6d F9iS2e\"> <span class=\"fYyStc\">track2training.com</span> </span> </div></a></td></tr></table></div></div> </div> </div></td><td align=\"center\" class=\"e3goi\"><div class=\"mnTahd\"> <div> <div class=\"lIMUZd\"><div><table class=\"IkMU6e\"><tr><td><a href=\"/url?q=https://www.biography.com/scientist/apj-abdul-kalam&amp;sa=U&amp;ved=2ahUKEwj58vvftsv6AhUUzXMBHWuGDtkQqoUBegQIChAB&amp;usg=AOvVaw350rR3zmvje65juff0bLIB\"><div class=\"NZWO1b\"><img alt=\"\" class=\"yWs4tf\" src=\"https://encrypted-tbn0.gstatic.com/images?q=tbn:ANd9GcSn7HS3nUJEQc6uieRCsQETsjhNUlkqG_LDxNl48eICSKNiYjA_iB7ooYw2I2Q&amp;s\"/></div></a></td></tr><tr><td><a href=\"/url?q=https://www.biography.com/scientist/apj-abdul-kalam&amp;sa=U&amp;ved=2ahUKEwj58vvftsv6AhUUzXMBHWuGDtkQr4kDegQIChAC&amp;usg=AOvVaw3eMHpZyGQ440Z3OiFKT2oM\"><div class=\"jB2rPd\"> <span class=\"qXLe6d x3G5ab\"> <span class=\"fYyStc\">A.P.J. Abdul Kalam - Books,...</span> </span> <span class=\"qXLe6d F9iS2e\"> <span class=\"fYyStc\">www.biography.com</span> </span> </div></a></td></tr></table></div></div> </div> </div></td></tr><tr><td align=\"center\" class=\"e3goi\"><div class=\"mnTahd\"> <div> <div class=\"lIMUZd\"><div><table class=\"IkMU6e\"><tr><td><a href=\"/url?q=https://www.aajtak.in/education/knowledge/story/apj-abdul-kalam-azad-death-anniversary-today-27-july-missile-man-of-india-abdul-kalam-inspirational-thoughts-in-hindi-lbse-1506996-2022-07-27&amp;sa=U&amp;ved=2ahUKEwj58vvftsv6AhUUzXMBHWuGDtkQqoUBegQIDhAB&amp;usg=AOvVaw0CZ-IMkN88RYllvi3QkKnS\"><div class=\"NZWO1b\"><img alt=\"\" class=\"yWs4tf\" src=\"https://encrypted-tbn0.gstatic.com/images?q=tbn:ANd9GcQizOaG8H509AdxAh-ysyJmZPl-Ef88UM0NCSOFN6HfYbeemz1JFfIiRrNHgQ&amp;s\"/></div></a></td></tr><tr><td><a href=\"/url?q=https://www.aajtak.in/education/knowledge/story/apj-abdul-kalam-azad-death-anniversary-today-27-july-missile-man-of-india-abdul-kalam-inspirational-thoughts-in-hindi-lbse-1506996-2022-07-27&amp;sa=U&amp;ved=2ahUKEwj58vvftsv6AhUUzXMBHWuGDtkQr4kDegQIDhAC&amp;usg=AOvVaw2IKwOe1wMTCxk9nQI5yvsp\"><div class=\"jB2rPd\"> <span class=\"qXLe6d x3G5ab\"> <span class=\"fYyStc\">APJ Abdul Kalam Death...</span> </span> <span class=\"qXLe6d F9iS2e\"> <span class=\"fYyStc\">www.aajtak.in</span> </span> </div></a></td></tr></table></div></div> </div> </div></td><td align=\"center\" class=\"e3goi\"><div class=\"mnTahd\"> <div> <div class=\"lIMUZd\"><div><table class=\"IkMU6e\"><tr><td><a href=\"/url?q=https://commons.wikimedia.org/wiki/File:A._P._J._Abdul_Kalam_in_2008.jpg&amp;sa=U&amp;ved=2ahUKEwj58vvftsv6AhUUzXMBHWuGDtkQqoUBegQICxAB&amp;usg=AOvVaw2AhAH8VnTPRkRxtR4UpcEh\"><div class=\"NZWO1b\"><img alt=\"\" class=\"yWs4tf\" src=\"https://encrypted-tbn0.gstatic.com/images?q=tbn:ANd9GcTX-fRoFRA_uUXd1jL-b1oBHdqb5DAbxlhlf9_KoxwxmVSXcAbxWYuoxt2PgA&amp;s\"/></div></a></td></tr><tr><td><a href=\"/url?q=https://commons.wikimedia.org/wiki/File:A._P._J._Abdul_Kalam_in_2008.jpg&amp;sa=U&amp;ved=2ahUKEwj58vvftsv6AhUUzXMBHWuGDtkQr4kDegQICxAC&amp;usg=AOvVaw1BAS1dbNhHinBnOR8vTqf2\"><div class=\"jB2rPd\"> <span class=\"qXLe6d x3G5ab\"> <span class=\"fYyStc\">File:A. P. J. Abdul Kalam...</span> </span> <span class=\"qXLe6d F9iS2e\"> <span class=\"fYyStc\">commons.wikimedia.org</span> </span> </div></a></td></tr></table></div></div> </div> </div></td><td align=\"center\" class=\"e3goi\"><div class=\"mnTahd\"> <div> <div class=\"lIMUZd\"><div><table class=\"IkMU6e\"><tr><td><a href=\"/url?q=https://www.tv9hindi.com/knowledge/apj-abdul-kalam-death-anniversary-check-the-unknown-facts-about-missile-man-of-india-in-hindi-au256-1365639.html&amp;sa=U&amp;ved=2ahUKEwj58vvftsv6AhUUzXMBHWuGDtkQqoUBegQIDRAB&amp;usg=AOvVaw2Pihh0jkPK4KMQMe1Mkv0M\"><div class=\"NZWO1b\"><img alt=\"\" class=\"yWs4tf\" src=\"https://encrypted-tbn0.gstatic.com/images?q=tbn:ANd9GcSC3y9mnFG222Iqd6nMHFAPakBkAvWXx-BaQgwVjv9cisylEGSFfdzzku3eMA&amp;s\"/></div></a></td></tr><tr><td><a href=\"/url?q=https://www.tv9hindi.com/knowledge/apj-abdul-kalam-death-anniversary-check-the-unknown-facts-about-missile-man-of-india-in-hindi-au256-1365639.html&amp;sa=U&amp;ved=2ahUKEwj58vvftsv6AhUUzXMBHWuGDtkQr4kDegQIDRAC&amp;usg=AOvVaw3Oq9bf7F12CKxLrxVCPxA5\"><div class=\"jB2rPd\"> <span class=\"qXLe6d x3G5ab\"> <span class=\"fYyStc\">APJ Abdul Kalam Death...</span> </span> <span class=\"qXLe6d F9iS2e\"> <span class=\"fYyStc\">www.tv9hindi.com</span> </span> </div></a></td></tr></table></div></div> </div> </div></td><td align=\"center\" class=\"e3goi\"><div class=\"mnTahd\"> <div> <div class=\"lIMUZd\"><div><table class=\"IkMU6e\"><tr><td><a href=\"/url?q=https://www.drishtiias.com/daily-updates/daily-news-analysis/apj-abdul-kalam-1&amp;sa=U&amp;ved=2ahUKEwj58vvftsv6AhUUzXMBHWuGDtkQqoUBegQIDxAB&amp;usg=AOvVaw21m2wqZRdMS2vqx0GZGihM\"><div class=\"NZWO1b\"><img alt=\"\" class=\"yWs4tf\" src=\"https://encrypted-tbn0.gstatic.com/images?q=tbn:ANd9GcSkX5qjw-dQnqbeNSo0USh7c8adKxgAoSeZRwj2vxT_B8eKP2YMtDIc2NTjgg&amp;s\"/></div></a></td></tr><tr><td><a href=\"/url?q=https://www.drishtiias.com/daily-updates/daily-news-analysis/apj-abdul-kalam-1&amp;sa=U&amp;ved=2ahUKEwj58vvftsv6AhUUzXMBHWuGDtkQr4kDegQIDxAC&amp;usg=AOvVaw0FjUYfo7KjR9rP405QjDYY\"><div class=\"jB2rPd\"> <span class=\"qXLe6d x3G5ab\"> <span class=\"fYyStc\">APJ Abdul Kalam</span> </span> <span class=\"qXLe6d F9iS2e\"> <span class=\"fYyStc\">www.drishtiias.com</span> </span> </div></a></td></tr></table></div></div> </div> </div></td></tr><tr><td align=\"center\" class=\"e3goi\"><div class=\"mnTahd\"> <div> <div class=\"lIMUZd\"><div><table class=\"IkMU6e\"><tr><td><a href=\"/url?q=https://www.indiatvnews.com/lifestyle/people/apj-abdul-kalam-death-anniversary-motivational-quotes-and-facts-about-former-president-of-india-2022-07-27-795324&amp;sa=U&amp;ved=2ahUKEwj58vvftsv6AhUUzXMBHWuGDtkQqoUBegQIAhAB&amp;usg=AOvVaw1tS33Pymca5D6XtwQei9pc\"><div class=\"NZWO1b\"><img alt=\"\" class=\"yWs4tf\" src=\"https://encrypted-tbn0.gstatic.com/images?q=tbn:ANd9GcSbS8Tnn4xNPZYcvAdXr_ROq0L6uruGYmTX2qHP1kX921yfRWE9kLNYjq97Yw&amp;s\"/></div></a></td></tr><tr><td><a href=\"/url?q=https://www.indiatvnews.com/lifestyle/people/apj-abdul-kalam-death-anniversary-motivational-quotes-and-facts-about-former-president-of-india-2022-07-27-795324&amp;sa=U&amp;ved=2ahUKEwj58vvftsv6AhUUzXMBHWuGDtkQr4kDegQIAhAC&amp;usg=AOvVaw0mKvUCp-G8_Y5sh77Pd29u\"><div class=\"jB2rPd\"> <span class=\"qXLe6d x3G5ab\"> <span class=\"fYyStc\">APJ Abdul Kalam Death...</span> </span> <span class=\"qXLe6d F9iS2e\"> <span class=\"fYyStc\">www.indiatvnews.com</span> </span> </div></a></td></tr></table></div></div> </div> </div></td><td align=\"center\" class=\"e3goi\"><div class=\"mnTahd\"> <div> <div class=\"lIMUZd\"><div><table class=\"IkMU6e\"><tr><td><a href=\"/url?q=https://www.amazon.in/Pride-Nation-P-J-Abdul-Kalam-ebook/dp/B017TPE8A6&amp;sa=U&amp;ved=2ahUKEwj58vvftsv6AhUUzXMBHWuGDtkQqoUBegQIABAB&amp;usg=AOvVaw3hZR_D0iuiAWNgXrMc9R3r\"><div class=\"NZWO1b\"><img alt=\"\" class=\"yWs4tf\" src=\"https://encrypted-tbn0.gstatic.com/images?q=tbn:ANd9GcSRwrbaJoHvpnpKMMmh7PNJjQ1eksPHEr8SHwTibxUY3IeBGhoiaD1Y69zDVJw&amp;s\"/></div></a></td></tr><tr><td><a href=\"/url?q=https://www.amazon.in/Pride-Nation-P-J-Abdul-Kalam-ebook/dp/B017TPE8A6&amp;sa=U&amp;ved=2ahUKEwj58vvftsv6AhUUzXMBHWuGDtkQr4kDegQIABAC&amp;usg=AOvVaw09yuUHt6ZywbSDhSvdpzqv\"><div class=\"jB2rPd\"> <span class=\"qXLe6d x3G5ab\"> <span class=\"fYyStc\">Pride of the Nation: Dr....</span> </span> <span class=\"qXLe6d F9iS2e\"> <span class=\"fYyStc\">www.amazon.in</span> </span> </div></a></td></tr></table></div></div> </div> </div></td><td align=\"center\" class=\"e3goi\"><div class=\"mnTahd\"> <div> <div class=\"lIMUZd\"><div><table class=\"IkMU6e\"><tr><td><a href=\"/url?q=https://www.medindia.net/news/former-indian-president-dr-avul-pakir-jainulabdeen-abdul-kalam-passes-away-in-shillong-151552-1.htm&amp;sa=U&amp;ved=2ahUKEwj58vvftsv6AhUUzXMBHWuGDtkQqoUBegQICBAB&amp;usg=AOvVaw3csH2xIDzBt1NqwPVfPvYZ\"><div class=\"NZWO1b\"><img alt=\"\" class=\"yWs4tf\" src=\"https://encrypted-tbn0.gstatic.com/images?q=tbn:ANd9GcSHrR7IbDCoqT3b4sKZOvzDDwRGzhgJW0KU-BHBeDBp0jgDvxyWk_-q2WRDXg&amp;s\"/></div></a></td></tr><tr><td><a href=\"/url?q=https://www.medindia.net/news/former-indian-president-dr-avul-pakir-jainulabdeen-abdul-kalam-passes-away-in-shillong-151552-1.htm&amp;sa=U&amp;ved=2ahUKEwj58vvftsv6AhUUzXMBHWuGDtkQr4kDegQICBAC&amp;usg=AOvVaw2Zx7kK_-i8dJDK2ZKw0LLf\"><div class=\"jB2rPd\"> <span class=\"qXLe6d x3G5ab\"> <span class=\"fYyStc\">Former Indian President and...</span> </span> <span class=\"qXLe6d F9iS2e\"> <span class=\"fYyStc\">www.medindia.net</span> </span> </div></a></td></tr></table></div></div> </div> </div></td><td align=\"center\" class=\"e3goi\"><div class=\"mnTahd\"> <div> <div class=\"lIMUZd\"><div><table class=\"IkMU6e\"><tr><td><a href=\"/url?q=https://www.ndtv.com/education/dr-apj-abdul-kalam-7-important-things-students-should-know-about-the-peoples-president-1763112&amp;sa=U&amp;ved=2ahUKEwj58vvftsv6AhUUzXMBHWuGDtkQqoUBegQIBRAB&amp;usg=AOvVaw0Qo79nmdKs-34m5j-OJvBC\"><div class=\"NZWO1b\"><img alt=\"\" class=\"yWs4tf\" src=\"https://encrypted-tbn0.gstatic.com/images?q=tbn:ANd9GcQbp7cpxE0mVEshzGq30i8DDGZ7fI7R3-wQxp4lzC4MyHPm3DmgDVs6UQ_epmA&amp;s\"/></div></a></td></tr><tr><td><a href=\"/url?q=https://www.ndtv.com/education/dr-apj-abdul-kalam-7-important-things-students-should-know-about-the-peoples-president-1763112&amp;sa=U&amp;ved=2ahUKEwj58vvftsv6AhUUzXMBHWuGDtkQr4kDegQIBRAC&amp;usg=AOvVaw1BnUzsSi-YYpevsasdNkzw\"><div class=\"jB2rPd\"> <span class=\"qXLe6d x3G5ab\"> <span class=\"fYyStc\">Dr. APJ Abdul Kalam: 7...</span> </span> <span class=\"qXLe6d F9iS2e\"> <span class=\"fYyStc\">www.ndtv.com</span> </span> </div></a></td></tr></table></div></div> </div> </div></td></tr><tr><td align=\"center\" class=\"e3goi\"><div class=\"mnTahd\"> <div> <div class=\"lIMUZd\"><div><table class=\"IkMU6e\"><tr><td><a href=\"/url?q=https://timesofindia.indiatimes.com/india/apj-abdul-kalam-remembering-missile-man-of-india-on-his-7th-death-anniversary/articleshow/93151815.cms&amp;sa=U&amp;ved=2ahUKEwj58vvftsv6AhUUzXMBHWuGDtkQqoUBegQIBxAB&amp;usg=AOvVaw3fc04JkUkmklCI4XCk_Iue\"><div class=\"NZWO1b\"><img alt=\"\" class=\"yWs4tf\" src=\"https://encrypted-tbn0.gstatic.com/images?q=tbn:ANd9GcSKuGwv5v81ZDw5ksO3xR_ZbkDqty1AHbDVMJu7u2LF4fHB6OeOeLLwsamJTA&amp;s\"/></div></a></td></tr><tr><td><a href=\"/url?q=https://timesofindia.indiatimes.com/india/apj-abdul-kalam-remembering-missile-man-of-india-on-his-7th-death-anniversary/articleshow/93151815.cms&amp;sa=U&amp;ved=2ahUKEwj58vvftsv6AhUUzXMBHWuGDtkQr4kDegQIBxAC&amp;usg=AOvVaw03RyYaP79BiWipK1btd4qy\"><div class=\"jB2rPd\"> <span class=\"qXLe6d x3G5ab\"> <span class=\"fYyStc\">APJ Abdul Kalam:...</span> </span> <span class=\"qXLe6d F9iS2e\"> <span class=\"fYyStc\">timesofindia.indiatimes.com...</span> </span> </div></a></td></tr></table></div></div> </div> </div></td><td align=\"center\" class=\"e3goi\"><div class=\"mnTahd\"> <div> <div class=\"lIMUZd\"><div><table class=\"IkMU6e\"><tr><td><a href=\"/url?q=https://www.pratidintime.com/national/nation-remembers-dr-apj-abdul-kalam-on-his-death-anniversary&amp;sa=U&amp;ved=2ahUKEwj58vvftsv6AhUUzXMBHWuGDtkQqoUBegQIBhAB&amp;usg=AOvVaw0fxVjQpvXhI4Qmr9trWeT_\"><div class=\"NZWO1b\"><img alt=\"\" class=\"yWs4tf\" src=\"https://encrypted-tbn0.gstatic.com/images?q=tbn:ANd9GcTuW40zCBeoy30OCBWaSomw2pLMA5N_bEroZCmHlw_KlDMbr0RT9p_eg0X5IQ&amp;s\"/></div></a></td></tr><tr><td><a href=\"/url?q=https://www.pratidintime.com/national/nation-remembers-dr-apj-abdul-kalam-on-his-death-anniversary&amp;sa=U&amp;ved=2ahUKEwj58vvftsv6AhUUzXMBHWuGDtkQr4kDegQIBhAC&amp;usg=AOvVaw2xs_SMPGTlCPICMtxnBeO9\"><div class=\"jB2rPd\"> <span class=\"qXLe6d x3G5ab\"> <span class=\"fYyStc\">Nation remembers Dr. APJ...</span> </span> <span class=\"qXLe6d F9iS2e\"> <span class=\"fYyStc\">www.pratidintime.com</span> </span> </div></a></td></tr></table></div></div> </div> </div></td><td align=\"center\" class=\"e3goi\"><div class=\"mnTahd\"> <div> <div class=\"lIMUZd\"><div><table class=\"IkMU6e\"><tr><td><a href=\"/url?q=http://www.abdulkalam.com/&amp;sa=U&amp;ved=2ahUKEwj58vvftsv6AhUUzXMBHWuGDtkQqoUBegQIBBAB&amp;usg=AOvVaw1WXteMfv2TwKyv2zxxqb-L\"><div class=\"NZWO1b\"><img alt=\"\" class=\"yWs4tf\" src=\"https://encrypted-tbn0.gstatic.com/images?q=tbn:ANd9GcS4tn0IsTUnhn0ypBKlAVghveAnzLosOfkvhBUFpZ2lQh0fj-UOuPj03BVPvQ&amp;s\"/></div></a></td></tr><tr><td><a href=\"/url?q=http://www.abdulkalam.com/&amp;sa=U&amp;ved=2ahUKEwj58vvftsv6AhUUzXMBHWuGDtkQr4kDegQIBBAC&amp;usg=AOvVaw2Hi-T4EXUiJQT7cYvL0FHV\"><div class=\"jB2rPd\"> <span class=\"qXLe6d x3G5ab\"> <span class=\"fYyStc\">Dr.APJ.Abdulkalam Official...</span> </span> <span class=\"qXLe6d F9iS2e\"> <span class=\"fYyStc\">www.abdulkalam.com</span> </span> </div></a></td></tr></table></div></div> </div> </div></td><td align=\"center\" class=\"e3goi\"><div class=\"mnTahd\"> <div> <div class=\"lIMUZd\"><div><table class=\"IkMU6e\"><tr><td><a href=\"/url?q=https://www.artstation.com/artwork/e0rzQw&amp;sa=U&amp;ved=2ahUKEwj58vvftsv6AhUUzXMBHWuGDtkQqoUBegQIARAB&amp;usg=AOvVaw2-dMQlPmVjJT_OXsTBJMJl\"><div class=\"NZWO1b\"><img alt=\"\" class=\"yWs4tf\" src=\"https://encrypted-tbn0.gstatic.com/images?q=tbn:ANd9GcThpTCjnVya1p47YJAREcC7z6J3F8_cQgDKFFAqeI9284bM_McLUI0D4qAOzA&amp;s\"/></div></a></td></tr><tr><td><a href=\"/url?q=https://www.artstation.com/artwork/e0rzQw&amp;sa=U&amp;ved=2ahUKEwj58vvftsv6AhUUzXMBHWuGDtkQr4kDegQIARAC&amp;usg=AOvVaw3ENFfKvOI8h773ZHy3M7Fu\"><div class=\"jB2rPd\"> <span class=\"qXLe6d x3G5ab\"> <span class=\"fYyStc\">ArtStation - Dr.APJ Abdul...</span> </span> <span class=\"qXLe6d F9iS2e\"> <span class=\"fYyStc\">www.artstation.com</span> </span> </div></a></td></tr></table></div></div> </div> </div></td></tr></table></div><table class=\"uZgmoc\"><tbody><td><a class=\"frGj1b\" href=\"/search?q=abdul+kalam&amp;rlz=1C1CHBF_enIN1023IN1023&amp;biw=1536&amp;bih=722&amp;ie=UTF-8&amp;tbm=isch&amp;ei=SrI-Y_mlFZSaz7sP64y6yA0&amp;start=20&amp;sa=N\">Next &gt;</a></td></tbody></table><br/><div class=\"TuS8Ad\" data-ved=\"0ahUKEwj58vvftsv6AhUUzXMBHWuGDtkQpyoIUg\"><style>.VYM29{font-weight:bold}</style><div align=\"center\" class=\"HddGcc\"><span class=\"VYM29\">788026, Silchar, Assam</span><span> - </span><span>From your IP address</span><span> - </span><a href=\"/url?q=https://support.google.com/websearch%3Fp%3Dws_settings_location%26hl%3Den-IN&amp;sa=U&amp;ved=0ahUKEwj58vvftsv6AhUUzXMBHWuGDtkQty4IUw&amp;usg=AOvVaw2wa7FjCCXfqXE3blDdNBlt\">Learn more</a></div><div align=\"center\"><a class=\"rEM8G\" href=\"/url?q=https://accounts.google.com/ServiceLogin%3Fcontinue%3Dhttps://www.google.com/search%253Fq%253Dabdul%252Bkalam%2526rlz%253D1C1CHBF_enIN1023IN1023%2526sxsrf%253DALiCzsbmglTijOEFhVZL7i-nj1CAwc-erQ:1665047486859%2526source%253Dlnms%2526tbm%253Disch%2526sa%253DX%2526ved%253D2ahUKEwjo2fOfocv6AhUi2DgGHVbHBTkQ_AUoAXoECAMQAw%2526biw%253D1536%2526bih%253D722%2526dpr%253D1.25%26hl%3Den&amp;sa=U&amp;ved=0ahUKEwj58vvftsv6AhUUzXMBHWuGDtkQxs8CCFQ&amp;usg=AOvVaw3vjXdoDS372_26xHk51Xbt\">Sign in</a></div><div><table class=\"bookcf\"><tbody class=\"InWNIe\"><tr><td><a class=\"rEM8G\" href=\"https://www.google.com/preferences?hl=en&amp;sa=X&amp;ved=0ahUKEwj58vvftsv6AhUUzXMBHWuGDtkQv5YECFU\">Settings</a></td><td><a class=\"rEM8G\" href=\"https://www.google.com/intl/en_in/policies/privacy/\">Privacy</a></td><td><a class=\"rEM8G\" href=\"https://www.google.com/intl/en_in/policies/terms/\">Terms</a></td></tr></tbody></table></div></div><div> </div></body></html>"
      ]
     },
     "execution_count": 55,
     "metadata": {},
     "output_type": "execute_result"
    }
   ],
   "source": [
    "from selenium import webdriver\n",
    "driver_path=r'C:\\Users\\Darshan Pradeep\\Desktop\\Practice\\chromedriver.exe'\n",
    "wd=webdriver.Chrome(driver_path)\n",
    "search_term=\"abdul kalam\"\n",
    "link=\"https://www.google.com/search?q={q}&rlz=1C1CHBF_enIN1023IN1023&sxsrf=ALiCzsbmglTijOEFhVZL7i-nj1CAwc-erQ:1665047486859&source=lnms&tbm=isch&sa=X&ved=2ahUKEwjo2fOfocv6AhUi2DgGHVbHBTkQ_AUoAXoECAMQAw&biw=1536&bih=722&dpr=1.25\"\n",
    "search_link=link.format(q=search_term.replace(' ','+'))\n",
    "wd.get(search_link)\n",
    "import requests\n",
    "from bs4 import BeautifulSoup as bs\n",
    "page_content=requests.get(search_link)\n",
    "page_content.encoding='utf-8'\n",
    "beautified_page_content=bs(page_content.text,'html.parser')\n",
    "beautified_page_content\n",
    "\n",
    "# always check whether the classes mentioned inside the inspect elements are present in the source contents or not.\n",
    "# requests.get() always look for source content.\n",
    "\n",
    "#in cases of google and youtube, it's better to use css selector (hover over the thumbnails and they give a hint)"
   ]
  },
  {
   "cell_type": "markdown",
   "id": "34464c8a",
   "metadata": {},
   "source": [
    "# 5. Using CSS selector provided with the webdriver to get thumbnail details"
   ]
  },
  {
   "cell_type": "code",
   "execution_count": null,
   "id": "fabe5d85",
   "metadata": {},
   "outputs": [],
   "source": [
    "thumbnails=wd.find_elements('css selector','img.rg_i.Q4LuWd') #create a list of instances, which contains details of the \n",
    "#thumbnail\n",
    "thumbnails"
   ]
  },
  {
   "cell_type": "markdown",
   "id": "fc314272",
   "metadata": {},
   "source": [
    "# 6. Finding links of the original images from the bigger pictures"
   ]
  },
  {
   "cell_type": "code",
   "execution_count": 138,
   "id": "720eb77b",
   "metadata": {},
   "outputs": [
    {
     "name": "stderr",
     "output_type": "stream",
     "text": [
      "C:\\Users\\Darshan Pradeep\\AppData\\Local\\Temp\\ipykernel_884\\1646822632.py:17: DeprecationWarning: executable_path has been deprecated, please pass in a Service object\n",
      "  wd=webdriver.Chrome(driver_path)\n"
     ]
    },
    {
     "name": "stdout",
     "output_type": "stream",
     "text": [
      "list index out of range\n",
      "list index out of range\n",
      "list index out of range\n",
      "list index out of range\n",
      "list index out of range\n"
     ]
    },
    {
     "data": {
      "text/plain": [
       "['https://upload.wikimedia.org/wikipedia/commons/6/6e/A._P._J._Abdul_Kalam.jpg',\n",
       " 'https://cdn.britannica.com/48/222648-050-F4D0A2D8/President-of-India-A-P-J-Abdul-Kalam-2007.jpg',\n",
       " 'https://cdn.britannica.com/56/148856-004-2F59E2D9/APJ-2008.jpg',\n",
       " 'https://rukminim1.flixcart.com/image/416/416/kjrh2fk0/poster/p/d/h/medium-dsd39-a-p-j-abdul-kalam-smile-wall-posters-for-home-original-imafz9dpv48geyda.jpeg?q=70',\n",
       " 'https://ichef.bbci.co.uk/news/976/cpsprodpb/10F7E/production/_84520596_gettyimages-478637974-1.jpg',\n",
       " 'https://track2traininginstitute.files.wordpress.com/2021/07/apj.jpg',\n",
       " 'https://www.drishtiias.com/images/uploads/1634380807_image4.jpg',\n",
       " 'https://akm-img-a-in.tosshub.com/aajtak/images/story/202207/apj_abdul_kalam-sixteen_nine.jpg',\n",
       " 'https://upload.wikimedia.org/wikipedia/commons/thumb/b/b0/A._P._J._Abdul_Kalam_in_2008.jpg/450px-A._P._J._Abdul_Kalam_in_2008.jpg?20181205005320',\n",
       " 'https://images.tv9hindi.com/wp-content/uploads/2022/07/APJ-Abdul-Kalam-Death-Anniversary-Check-the-unknown-facts-about-Missile-Man-Of-India-in-Hindi.jpg',\n",
       " 'https://m.media-amazon.com/images/I/51AKNcreMiL._SX342_SY445_QL70_ML2_.jpg',\n",
       " 'https://resize.indiatvnews.com/en/resize/newbucket/730_-/2022/07/2t-19-1658918054.jpg',\n",
       " 'https://www.ndtv.com/education/cache-static/media/presets/625X400/article_images/2020/5/12/apj-abdul-kalam_650x400_51481193286.webp',\n",
       " 'https://images.medindia.net/amp-images/health-images/apj-abdul-kalam.jpg',\n",
       " 'https://static.toiimg.com/thumb/msid-93152424,width-1280,height-720,resizemode-4/.jpg',\n",
       " 'https://gumlet.assettype.com/pratidintime%2Fimport%2F2018%2F07%2FAPJ-Abdul-Kalam.jpg?w=1200&auto=format%2Ccompress&ogImage=true&enlarge=true',\n",
       " 'https://cdnb.artstation.com/p/assets/images/images/020/366/189/large/jeeva-artist-09isro.jpg?1567513033&dl=1',\n",
       " 'https://i.guim.co.uk/img/media/030ef8cc4f11bdc2a36d80620127f626d574bd5a/0_36_2866_1719/master/2866.jpg?width=1200&quality=85&auto=format&fit=max&s=d3c127bbca531c9aaafe35b260e5c2c3',\n",
       " 'https://st.adda247.com/https://wpassets.adda247.com/wp-content/uploads/multisite/sites/5/2022/05/27111537/APJ-Abdul-Kalam.png',\n",
       " 'https://images.hindustantimes.com/rf/image_size_640x362/HT/p1/2015/07/27/Incoming/Pictures/1373695_Wallpaper2.jpg',\n",
       " 'https://static.javatpoint.com/biography/images/dr-apj-abdul-kalam.png',\n",
       " 'https://www.businessinsider.in/photo/48254138.cms',\n",
       " 'https://chanakya.one/wp-content/uploads/2021/11/apj-abdul-kalam.png',\n",
       " 'https://thedispatch.blob.core.windows.net/thedispatchimages/2022/06/SatishDhawanAbdulKalam-990x743.jpg',\n",
       " 'https://img.jagranjosh.com/images/2021/July/2772021/apj_abdul-kalam_sixth_death_anniversary.jpg',\n",
       " 'https://pbs.twimg.com/media/FYmj7KyUYAAJNzX.jpg:large',\n",
       " 'https://akm-img-a-in.tosshub.com/indiatoday/images/story/202207/FROM-THE-ARCHIVES--Kalam.jpg?HxbtN94JyC9POU0M.pHZPRhRsLVea.xS&size=770:433',\n",
       " 'https://harpercollins.co.in/wp-content/uploads/2016/01/A.P.J.-Abdul-Kalam-1.jpg',\n",
       " 'https://images.firstpost.com/wp-content/uploads/2021/07/APJ-Abdul-Kalam_PTI.jpg?impolicy=website&width=1200&height=800',\n",
       " 'https://english.cdn.zeenews.com/sites/default/files/styles/zm_700x400/public/2017/07/27/612295-abdul-kalam-zee.jpg',\n",
       " 'https://assets.thehansindia.com/h-upload/2020/10/14/1005483-kalam.webp',\n",
       " 'https://m.media-amazon.com/images/M/MV5BZWViMDVmZDAtMDY5NC00MGI3LWE3M2YtMTFlNjg2NjJlZTllXkEyXkFqcGdeQXVyODE0NzM4NjU@._V1_FMjpg_UX1000_.jpg',\n",
       " 'https://imgk.timesnownews.com/story/abdul_kalam.jpg?tr=w-1200,h-900',\n",
       " 'https://en-media.thebetterindia.com/uploads/2017/06/top-5-things-apj-abdul-kalam-president-.jpg?compress=true&quality=80&w=376&dpr=2.6',\n",
       " 'https://resize.indiatvnews.com/en/resize/newbucket/715_-/2021/07/twitter-kalam-1627362940.jpg',\n",
       " 'https://www.inugum.com/wp-content/uploads/2020/10/7-Ideologies-Of-APJ-Abdul-Kalam-We-Should-Follow.jpg',\n",
       " 'https://gumlet.assettype.com/Prabhatkhabar%2F2022-07%2F48c394d8-f709-4c70-9970-69b48b70b679%2FAPJ_Abdul_Kalam.jpg?format=webp&w=400&dpr=2.6',\n",
       " 'https://gumlet.assettype.com/barandbench%2Fimport%2F2015%2F07%2F00-FB-Share-Pic5.jpg?auto=format%2Ccompress&fit=max&w=400&dpr=2.6',\n",
       " 'https://static.theprint.in/wp-content/uploads/2019/11/Narendra-Modi-Abdul-Kalam.jpg',\n",
       " 'https://i.ytimg.com/vi/uQVkcc6gKfQ/maxresdefault.jpg',\n",
       " 'https://m.economictimes.com/thumb/msid-52146614,width-1200,height-900,resizemode-4,imgsize-156411/hc-restrains-party-from-using-name/pictures-of-late-abdul-kalam.jpg',\n",
       " 'https://image.winudf.com/v2/image/YWJkdWxrYWxhbS5hcHBkdW5peWEuY29tLmFiZHVsa2FsYW1fc2NyZWVuc2hvdHNfMF9lYzk5YTYxNQ/screen-0.jpg?fakeurl=1&type=.webp',\n",
       " 'https://static.toiimg.com/thumb/imgsize-23456,msid-93152432,width-600,resizemode-4/93152432.jpg']"
      ]
     },
     "execution_count": 138,
     "metadata": {},
     "output_type": "execute_result"
    }
   ],
   "source": [
    "actual_images=[]\n",
    "for thumbnail in thumbnails: \n",
    "    try:\n",
    "        thumbnail.click() # click on every thumnail one by one\n",
    "        time.sleep(2) #let the image load after clicking and then search for img tag. Else it won't be registered\n",
    "        new=wd.find_elements('css selector','img.n3VNCb.KAlRDb')\n",
    "        if new[0].get_attribute('src') and 'https' in new[0].get_attribute('src'):\n",
    "            actual_images.append(new[0].get_attribute('src'))\n",
    "    except Exception as e: #this is when new=[] (blank lists). Thus, loop continues even if blanks are encountered.\n",
    "        print(e)\n",
    "actual_images\n",
    "#clicking on every thumbnail and selecting the bigger picture and checking if the bigger picture has an attribute of src and \n",
    "#https. If yes, then add that bigger picture's original url (of the source) to the list actual_images"
   ]
  },
  {
   "cell_type": "markdown",
   "id": "0b41fd98",
   "metadata": {},
   "source": [
    "# 7. Selecting/Creating the folder where the photos will be downloaded:"
   ]
  },
  {
   "cell_type": "code",
   "execution_count": 147,
   "id": "9fc46a84",
   "metadata": {},
   "outputs": [],
   "source": [
    "import requests\n",
    "import os\n",
    "directory=r'C:\\Users\\Darshan Pradeep\\Desktop\\Practice\\images'\n",
    "folder_path=os.path.join(directory,'_'.join(search_term.lower().split(' '))) #creating a new folder with the name of search term\n",
    "#separated by _\n",
    "folder_path #this is the folder where the photos will be downloaded\n",
    "if not os.path.exists(folder_path): #if the above folder is not present, make a new one\n",
    "    os.makedirs(folder_path)"
   ]
  },
  {
   "cell_type": "markdown",
   "id": "c3acad3c",
   "metadata": {},
   "source": [
    "# 8. Downloading the images from the list of URL's to the created folder"
   ]
  },
  {
   "cell_type": "code",
   "execution_count": 149,
   "id": "2fbdbf10",
   "metadata": {},
   "outputs": [],
   "source": [
    "count=1\n",
    "for image_links in actual_images: #selecting every image link inside the list one by one\n",
    "    image_in_bytes=requests.get(image_links).content #reading the images from the files. After this, the image is stored as bytes\n",
    "    f=open(os.path.join(folder_path,(str(count)+'.png')),'wb') #opening a new file in write bytes mode to write the bytes of image\n",
    "    #in side the file. We are saving the file in .png format. So automatically, those bytes will be converted into it's \n",
    "    #corresponding images\n",
    "    f.write(image_in_bytes)\n",
    "    f.close()\n",
    "    count+=1"
   ]
  },
  {
   "cell_type": "markdown",
   "id": "57b10b72",
   "metadata": {},
   "source": [
    "# 9. Creating a function for scrolling down the webpage:"
   ]
  },
  {
   "cell_type": "code",
   "execution_count": 151,
   "id": "fd28f5a2",
   "metadata": {},
   "outputs": [],
   "source": [
    "def scroll():\n",
    "    wd.execute_script(\"window.scrollTo(0,document.body.scrollHeight)\")\n",
    "    time.sleep(2)"
   ]
  },
  {
   "cell_type": "markdown",
   "id": "c8e37704",
   "metadata": {},
   "source": [
    "# 10. Final rough program:"
   ]
  },
  {
   "cell_type": "code",
   "execution_count": 150,
   "id": "ed7fe600",
   "metadata": {},
   "outputs": [
    {
     "name": "stderr",
     "output_type": "stream",
     "text": [
      "C:\\Users\\Darshan Pradeep\\AppData\\Local\\Temp\\ipykernel_884\\1444117029.py:4: DeprecationWarning: executable_path has been deprecated, please pass in a Service object\n",
      "  wd=webdriver.Chrome(driver_path)\n"
     ]
    },
    {
     "name": "stdout",
     "output_type": "stream",
     "text": [
      "list index out of range\n",
      "list index out of range\n"
     ]
    }
   ],
   "source": [
    "import time\n",
    "from selenium import webdriver\n",
    "driver_path=r'C:\\Users\\Darshan Pradeep\\Desktop\\Practice\\chromedriver.exe'\n",
    "wd=webdriver.Chrome(driver_path)\n",
    "search_term=\"sachin tendulkar\"\n",
    "link=\"https://www.google.com/search?q={q}&rlz=1C1CHBF_enIN1023IN1023&sxsrf=ALiCzsbmglTijOEFhVZL7i-nj1CAwc-erQ:1665047486859&source=lnms&tbm=isch&sa=X&ved=2ahUKEwjo2fOfocv6AhUi2DgGHVbHBTkQ_AUoAXoECAMQAw&biw=1536&bih=722&dpr=1.25\"\n",
    "search_link=link.format(q=search_term.replace(' ','+'))\n",
    "wd.get(search_link)\n",
    "thumbnails=wd.find_elements('css selector','img.rg_i.Q4LuWd')\n",
    "actual_images=[]\n",
    "for thumbnail in thumbnails:\n",
    "    try:\n",
    "        thumbnail.click()\n",
    "        time.sleep(2) #let the image load after clicking and then search for img tag. Else it won't be registered\n",
    "        new=wd.find_elements('css selector','img.n3VNCb.KAlRDb')\n",
    "        if new[0].get_attribute('src') and 'https' in new[0].get_attribute('src'):\n",
    "            actual_images.append(new[0].get_attribute('src'))\n",
    "    except Exception as e:\n",
    "        print(e)\n",
    "import requests\n",
    "import os\n",
    "directory=r'C:\\Users\\Darshan Pradeep\\Desktop\\Practice\\images'\n",
    "folder_path=os.path.join(directory,'_'.join(search_term.lower().split(' '))) #creating a new folder with the name of search term\n",
    "#separated by _\n",
    "folder_path #this is the folder where the photos will be downloaded\n",
    "if not os.path.exists(folder_path): #if the above folder is not present, make a new one\n",
    "    os.makedirs(folder_path)\n",
    "count=1\n",
    "for image_links in actual_images: #selecting every image link inside the list one by one\n",
    "    image_in_bytes=requests.get(image_links).content #reading the images from the files. After this, the image is stored as bytes\n",
    "    f=open(os.path.join(folder_path,(str(count)+'.png')),'wb') #opening a new file in write bytes mode to write the bytes of image\n",
    "    #in side the file. We are saving the file in .png format. So automatically, those bytes will be converted into it's \n",
    "    #corresponding images\n",
    "    f.write(image_in_bytes)\n",
    "    f.close()\n",
    "    count+=1\n",
    "\n"
   ]
  },
  {
   "cell_type": "code",
   "execution_count": 135,
   "id": "3f634cf7",
   "metadata": {},
   "outputs": [
    {
     "data": {
      "text/plain": [
       "43"
      ]
     },
     "execution_count": 135,
     "metadata": {},
     "output_type": "execute_result"
    }
   ],
   "source": [
    "len(actual_images)"
   ]
  },
  {
   "cell_type": "markdown",
   "id": "b69d893d",
   "metadata": {},
   "source": [
    "<hr style=\"height:2px;border-width:0px;color:black;background-color:red\">\n"
   ]
  },
  {
   "cell_type": "markdown",
   "id": "31dadb64",
   "metadata": {},
   "source": [
    "# Extras:"
   ]
  },
  {
   "cell_type": "markdown",
   "id": "8a6212ed",
   "metadata": {},
   "source": [
    "# 6. Selecting the link of the thumbnail image from thumbnail webdriver thumbnail details"
   ]
  },
  {
   "cell_type": "code",
   "execution_count": null,
   "id": "b630230c",
   "metadata": {},
   "outputs": [],
   "source": [
    "v=thumbnails[0].get_attribute('src')\n",
    "#saves the link of the thumbnail image inside variable v \n",
    "\n",
    "#to get actual images (bigger ones), follow as below:"
   ]
  },
  {
   "cell_type": "markdown",
   "id": "9ff18f4c",
   "metadata": {},
   "source": [
    "# 7. Using the css selector to get the bigger picture details"
   ]
  },
  {
   "cell_type": "code",
   "execution_count": null,
   "id": "ff3fb62d",
   "metadata": {},
   "outputs": [],
   "source": [
    "big_pictures=[]\n",
    "for thumbnail in thumbnails:\n",
    "    thumbnail.click() #click is a method of webdriver\n",
    "    time.sleep(1) #let the image load after clicking and then search for img tag. Else it won't be registered\n",
    "    new=wd.find_elements('css selector','img.n3VNCb.KAlRDb')\n",
    "    big_pictures.append(new)\n",
    "    \n",
    "# the list big_picture may contain many empty instances as well because sometimes it takes more time for some images to load \n",
    "#and by that time, the selector would've searched for the img tag. This can be further resolved if we increase the sleep time"
   ]
  },
  {
   "cell_type": "markdown",
   "id": "15e9f577",
   "metadata": {},
   "source": [
    "# 8. Creating a list of only non-blank bigger picture details"
   ]
  },
  {
   "cell_type": "code",
   "execution_count": 115,
   "id": "8a8bdb79",
   "metadata": {},
   "outputs": [
    {
     "data": {
      "text/plain": [
       "[[<selenium.webdriver.remote.webelement.WebElement (session=\"0e189a2e5197dde78093d775b56b19cb\", element=\"a11a6aa4-5aba-4f39-b584-c31dc852a936\")>],\n",
       " [<selenium.webdriver.remote.webelement.WebElement (session=\"0e189a2e5197dde78093d775b56b19cb\", element=\"a2a81f0d-e08d-4ee1-81da-232d0b74c7e9\")>],\n",
       " [<selenium.webdriver.remote.webelement.WebElement (session=\"0e189a2e5197dde78093d775b56b19cb\", element=\"93a418c9-ce47-469d-bb2a-3b2d17ba1d9e\")>],\n",
       " [<selenium.webdriver.remote.webelement.WebElement (session=\"0e189a2e5197dde78093d775b56b19cb\", element=\"5ef9306d-faf8-4424-8666-726bef7398c8\")>],\n",
       " [<selenium.webdriver.remote.webelement.WebElement (session=\"0e189a2e5197dde78093d775b56b19cb\", element=\"741fe660-bdf0-4f3c-a774-1793152d479c\")>],\n",
       " [<selenium.webdriver.remote.webelement.WebElement (session=\"0e189a2e5197dde78093d775b56b19cb\", element=\"abf0ba7c-beef-4b0f-a2dd-bfdbb7855875\")>],\n",
       " [<selenium.webdriver.remote.webelement.WebElement (session=\"0e189a2e5197dde78093d775b56b19cb\", element=\"c146f144-dac9-4667-a0bc-fdff49289000\")>],\n",
       " [<selenium.webdriver.remote.webelement.WebElement (session=\"0e189a2e5197dde78093d775b56b19cb\", element=\"5c1720c5-71ac-4388-8619-8b688a3fab55\")>],\n",
       " [<selenium.webdriver.remote.webelement.WebElement (session=\"0e189a2e5197dde78093d775b56b19cb\", element=\"204aac73-6054-404f-a387-ea3c1f6308a9\")>],\n",
       " [<selenium.webdriver.remote.webelement.WebElement (session=\"0e189a2e5197dde78093d775b56b19cb\", element=\"7176cda3-82b6-4cc3-ad96-240ae5457910\")>],\n",
       " [<selenium.webdriver.remote.webelement.WebElement (session=\"0e189a2e5197dde78093d775b56b19cb\", element=\"2d98da73-d764-41fe-8a3b-b6769d3b1aea\")>],\n",
       " [<selenium.webdriver.remote.webelement.WebElement (session=\"0e189a2e5197dde78093d775b56b19cb\", element=\"745e6152-1b39-468d-91fa-9f60ec65dd59\")>],\n",
       " [<selenium.webdriver.remote.webelement.WebElement (session=\"0e189a2e5197dde78093d775b56b19cb\", element=\"77175f77-656e-4fd4-b7b7-ac0fb1be4cd0\")>],\n",
       " [<selenium.webdriver.remote.webelement.WebElement (session=\"0e189a2e5197dde78093d775b56b19cb\", element=\"6ea6c46e-5bc3-43e1-8dc7-9ad48dfd73d6\")>],\n",
       " [<selenium.webdriver.remote.webelement.WebElement (session=\"0e189a2e5197dde78093d775b56b19cb\", element=\"e73c13cf-81c7-4fc9-837e-3dd850ea305b\")>],\n",
       " [<selenium.webdriver.remote.webelement.WebElement (session=\"0e189a2e5197dde78093d775b56b19cb\", element=\"cde85f88-63ff-4292-8183-7d3c0878dde4\")>],\n",
       " [<selenium.webdriver.remote.webelement.WebElement (session=\"0e189a2e5197dde78093d775b56b19cb\", element=\"454cb3cd-bdbf-4005-ac60-9e71d1b2b217\")>],\n",
       " [<selenium.webdriver.remote.webelement.WebElement (session=\"0e189a2e5197dde78093d775b56b19cb\", element=\"fc5a4ff2-0e75-4426-8b0c-168b38305cdd\")>],\n",
       " [<selenium.webdriver.remote.webelement.WebElement (session=\"0e189a2e5197dde78093d775b56b19cb\", element=\"75935a5a-de03-472e-9a91-ece8335ab2fd\")>],\n",
       " [<selenium.webdriver.remote.webelement.WebElement (session=\"0e189a2e5197dde78093d775b56b19cb\", element=\"d4d550a9-4c67-43a9-82bd-00d6ecc2f7c2\")>],\n",
       " [<selenium.webdriver.remote.webelement.WebElement (session=\"0e189a2e5197dde78093d775b56b19cb\", element=\"5ff93fb0-3716-45b0-ad0a-f4dc8d18ec4d\")>],\n",
       " [<selenium.webdriver.remote.webelement.WebElement (session=\"0e189a2e5197dde78093d775b56b19cb\", element=\"bfd73d3d-7f8b-4921-937c-54eb3b092abb\")>],\n",
       " [<selenium.webdriver.remote.webelement.WebElement (session=\"0e189a2e5197dde78093d775b56b19cb\", element=\"d3bd1a1b-d3db-4c1d-9b4c-edd43751d9d7\")>],\n",
       " [<selenium.webdriver.remote.webelement.WebElement (session=\"0e189a2e5197dde78093d775b56b19cb\", element=\"1f045995-eef1-40e8-8ff9-09b7bd6fb3f7\")>],\n",
       " [<selenium.webdriver.remote.webelement.WebElement (session=\"0e189a2e5197dde78093d775b56b19cb\", element=\"ac6a675b-4abf-4fb2-a7b1-ba571c305a58\")>],\n",
       " [<selenium.webdriver.remote.webelement.WebElement (session=\"0e189a2e5197dde78093d775b56b19cb\", element=\"723fc174-1691-4bd4-9dfa-73fe115d0f09\")>],\n",
       " [<selenium.webdriver.remote.webelement.WebElement (session=\"0e189a2e5197dde78093d775b56b19cb\", element=\"65530e2d-fcd3-40c8-af53-aa8a41284bd4\")>],\n",
       " [<selenium.webdriver.remote.webelement.WebElement (session=\"0e189a2e5197dde78093d775b56b19cb\", element=\"6e506cbf-762a-4383-9e9d-78a84a68deab\")>],\n",
       " [<selenium.webdriver.remote.webelement.WebElement (session=\"0e189a2e5197dde78093d775b56b19cb\", element=\"9ca1cf83-5ef7-4002-a304-e2034736e662\")>],\n",
       " [<selenium.webdriver.remote.webelement.WebElement (session=\"0e189a2e5197dde78093d775b56b19cb\", element=\"2cfa3422-e422-455b-84b3-e9c582859c2e\")>],\n",
       " [<selenium.webdriver.remote.webelement.WebElement (session=\"0e189a2e5197dde78093d775b56b19cb\", element=\"7941710f-6fd4-4843-83bd-bfbc4afbeaae\")>],\n",
       " [<selenium.webdriver.remote.webelement.WebElement (session=\"0e189a2e5197dde78093d775b56b19cb\", element=\"416998e0-3ec5-4d3f-9818-9c093b415951\")>],\n",
       " [<selenium.webdriver.remote.webelement.WebElement (session=\"0e189a2e5197dde78093d775b56b19cb\", element=\"c871e76f-f08f-4034-b31d-e9d4930ad2a1\")>],\n",
       " [<selenium.webdriver.remote.webelement.WebElement (session=\"0e189a2e5197dde78093d775b56b19cb\", element=\"2d2c28cf-b302-4c06-8617-6afcb8e71500\")>],\n",
       " [<selenium.webdriver.remote.webelement.WebElement (session=\"0e189a2e5197dde78093d775b56b19cb\", element=\"eb87a134-de96-4377-8556-35d54a9dd304\")>],\n",
       " [<selenium.webdriver.remote.webelement.WebElement (session=\"0e189a2e5197dde78093d775b56b19cb\", element=\"abd48c9c-8404-4227-b3ab-025a3e0e6427\")>],\n",
       " [<selenium.webdriver.remote.webelement.WebElement (session=\"0e189a2e5197dde78093d775b56b19cb\", element=\"ead5dae9-aceb-4cc4-8e00-ac796423cb79\")>],\n",
       " [<selenium.webdriver.remote.webelement.WebElement (session=\"0e189a2e5197dde78093d775b56b19cb\", element=\"06289543-cf6a-42f0-afa3-878beb299354\")>],\n",
       " [<selenium.webdriver.remote.webelement.WebElement (session=\"0e189a2e5197dde78093d775b56b19cb\", element=\"32a33b61-8ce6-44d9-985b-3f3d0004c006\")>]]"
      ]
     },
     "execution_count": 115,
     "metadata": {},
     "output_type": "execute_result"
    }
   ],
   "source": [
    "big_picture_without_blanks=[i for i in big_pictures if i!=[]]\n",
    "big_picture_without_blanks\n",
    "\n",
    "\n",
    "#this is useless here because once the driver has parsed all the instances, it cannot call a particular instance and look\n",
    "#for attributes"
   ]
  },
  {
   "cell_type": "code",
   "execution_count": null,
   "id": "e0959575",
   "metadata": {},
   "outputs": [],
   "source": []
  }
 ],
 "metadata": {
  "kernelspec": {
   "display_name": "Python 3 (ipykernel)",
   "language": "python",
   "name": "python3"
  },
  "language_info": {
   "codemirror_mode": {
    "name": "ipython",
    "version": 3
   },
   "file_extension": ".py",
   "mimetype": "text/x-python",
   "name": "python",
   "nbconvert_exporter": "python",
   "pygments_lexer": "ipython3",
   "version": "3.9.7"
  }
 },
 "nbformat": 4,
 "nbformat_minor": 5
}
